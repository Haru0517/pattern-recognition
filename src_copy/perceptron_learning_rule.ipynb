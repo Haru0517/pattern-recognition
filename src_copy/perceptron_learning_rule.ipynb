{
 "cells": [
  {
   "cell_type": "markdown",
   "metadata": {
    "pycharm": {}
   },
   "source": [
    "# Perceptron Learning Rule"
   ]
  },
  {
   "cell_type": "markdown",
   "metadata": {
    "pycharm": {}
   },
   "source": [
    "## import mudules"
   ]
  },
  {
   "cell_type": "code",
   "execution_count": 1,
   "metadata": {
    "pycharm": {
     "is_executing": false
    }
   },
   "outputs": [],
   "source": [
    "import argparse\n",
    "import random\n",
    "import numpy as np\n",
    "import matplotlib.pyplot as plt"
   ]
  },
  {
   "cell_type": "markdown",
   "metadata": {
    "pycharm": {}
   },
   "source": [
    "## define learning function"
   ]
  },
  {
   "cell_type": "code",
   "execution_count": 2,
   "metadata": {
    "pycharm": {}
   },
   "outputs": [],
   "source": [
    "def learning(x_list, larning_rate):\n",
    "    # wの初期化\n",
    "    w0 = random.randint(-10, 10)\n",
    "    w1 = random.randint(-10, 10)\n",
    "    w = np.asarray([w0, w1])\n",
    "    print(\"Learning start :\\tw0 = %.2f,\\tw1 = %.2f\" % (w[0], w[1]))\n",
    "\n",
    "    iteration = 0\n",
    "    number_of_errors = 1\n",
    "\n",
    "    while not number_of_errors == 0:\n",
    "        # x_listをシャッフルする\n",
    "        np.random.shuffle(x_list)\n",
    "        number_of_errors = 0\n",
    "\n",
    "        # xを一つずつ取り出す\n",
    "        for x, correct_class in x_list:\n",
    "            # xを拡張ベクトルにする\n",
    "            x = np.asarray([1, x])\n",
    "\n",
    "            # 内積をとる\n",
    "            score = np.dot(w, x)\n",
    "\n",
    "            # 分類が誤っていれば重みを修正する\n",
    "            if score <= 0 and correct_class == 1:\n",
    "                w = w + x * larning_rate\n",
    "                number_of_errors += 1\n",
    "            elif score >= 0 and correct_class == 2:\n",
    "                w = w - x * larning_rate\n",
    "                number_of_errors += 1\n",
    "\n",
    "        # iterationごとに結果を表示\n",
    "        iteration += 1\n",
    "        print(\"Iteration %d :\\t\\tw0 = %.2f,\\tw1 = %.2f\" % (iteration, w[0], w[1]))\n",
    "\n",
    "    print(\"Learning end :\\tw0 = %.2f,\\tw1 = %.2f\" % (w[0], w[1]))\n",
    "    return w"
   ]
  },
  {
   "cell_type": "markdown",
   "metadata": {
    "pycharm": {}
   },
   "source": [
    "## run"
   ]
  },
  {
   "cell_type": "code",
   "execution_count": 3,
   "metadata": {
    "pycharm": {},
    "scrolled": true
   },
   "outputs": [
    {
     "name": "stdout",
     "output_type": "stream",
     "text": [
      "Learning start :\tw0 = -4.00,\tw1 = -1.00\n",
      "Iteration 1 :\t\tw0 = -0.40,\tw1 = 2.60\n",
      "Iteration 2 :\t\tw0 = -0.40,\tw1 = 5.48\n",
      "Iteration 3 :\t\tw0 = -0.40,\tw1 = 6.56\n",
      "Iteration 4 :\t\tw0 = 3.20,\tw1 = 5.84\n",
      "Iteration 5 :\t\tw0 = -0.40,\tw1 = 7.64\n",
      "Iteration 6 :\t\tw0 = 3.20,\tw1 = 6.92\n",
      "Iteration 7 :\t\tw0 = 3.20,\tw1 = 6.92\n",
      "Learning end :\tw0 = 3.20,\tw1 = 6.92\n"
     ]
    }
   ],
   "source": [
    "# 1.2, 2.0, 3.6\n",
    "learning_rate = 3.6\n",
    "\n",
    "x_list = np.asarray([(-1.5, 2), (-1.0, 2), (-0.5, 2), (-0.2, 1), (0.2, 1), (1.2, 1)])\n",
    "w = learning(x_list, learning_rate)"
   ]
  },
  {
   "cell_type": "markdown",
   "metadata": {
    "pycharm": {}
   },
   "source": [
    "## draw graph "
   ]
  },
  {
   "cell_type": "code",
   "execution_count": 4,
   "metadata": {
    "pycharm": {}
   },
   "outputs": [
    {
     "data": {
      "image/png": "[encoded data removed]",
      "text/plain": [
       "<Figure size 432x288 with 1 Axes>"
      ]
     },
     "metadata": {},
     "output_type": "display_data"
    }
   ],
   "source": [
    "plt.axhline(y = 0, c = 'gray')\n",
    "plt.scatter(x_list[x_list[:, 1] == 1, 0], np.zeros(x_list[x_list[:, 1] == 1, 0].size), c='red', marker=\"o\")\n",
    "plt.scatter(x_list[x_list[:, 1] == 2, 0], np.zeros(x_list[x_list[:, 1] == 2, 0].size), c='yellow', marker=\"o\")\n",
    "plt.axvline(x = -(w[0]/w[1]), c='green')\n",
    "plt.show()"
   ]
  },
  {
   "cell_type": "code",
   "execution_count": null,
   "metadata": {
    "pycharm": {}
   },
   "outputs": [],
   "source": []
  }
 ],
 "metadata": {
  "kernelspec": {
   "display_name": "Python 3",
   "language": "python",
   "name": "python3"
  },
  "language_info": {
   "codemirror_mode": {
    "name": "ipython",
    "version": 3
   },
   "file_extension": ".py",
   "mimetype": "text/x-python",
   "name": "python",
   "nbconvert_exporter": "python",
   "pygments_lexer": "ipython3",
   "version": "3.7.1"
  }
 },
 "nbformat": 4,
 "nbformat_minor": 2
}
