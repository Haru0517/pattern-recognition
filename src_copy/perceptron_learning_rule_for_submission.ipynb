{
 "cells": [
  {
   "cell_type": "markdown",
   "metadata": {},
   "source": [
    "# Perceptron Learning Rule"
   ]
  },
  {
   "cell_type": "markdown",
   "metadata": {},
   "source": [
    "## import mudules"
   ]
  },
  {
   "cell_type": "code",
   "execution_count": 6,
   "metadata": {},
   "outputs": [],
   "source": [
    "import argparse\n",
    "import random\n",
    "import numpy as np\n",
    "import matplotlib.pyplot as plt"
   ]
  },
  {
   "cell_type": "markdown",
   "metadata": {},
   "source": [
    "## define learning function"
   ]
  },
  {
   "cell_type": "code",
   "execution_count": 7,
   "metadata": {},
   "outputs": [],
   "source": [
    "def learning(x_list, larning_rate):\n",
    "    # wの初期化\n",
    "    w0 = random.randint(-10, 10)\n",
    "    w1 = random.randint(-10, 10)\n",
    "    w = np.asarray([w0, w1])\n",
    "    print(\"Learning start :\\tw0 = %.2f,\\tw1 = %.2f\" % (w[0], w[1]))\n",
    "\n",
    "    iteration = 0\n",
    "    number_of_errors = 1\n",
    "\n",
    "    while not number_of_errors == 0:\n",
    "        # x_listをシャッフルする\n",
    "        np.random.shuffle(x_list)\n",
    "        number_of_errors = 0\n",
    "\n",
    "        # xを一つずつ取り出す\n",
    "        for x, correct_class in x_list:\n",
    "            # xを拡張ベクトルにする\n",
    "            x = np.asarray([1, x])\n",
    "\n",
    "            # 内積をとる\n",
    "            score = np.dot(w, x)\n",
    "\n",
    "            # 分類が誤っていれば重みを修正する\n",
    "            if score <= 0 and correct_class == 1:\n",
    "                w = w + x * larning_rate\n",
    "                number_of_errors += 1\n",
    "            elif score >= 0 and correct_class == 2:\n",
    "                w = w - x * larning_rate\n",
    "                number_of_errors += 1\n",
    "\n",
    "        # iterationごとに結果を表示\n",
    "        iteration += 1\n",
    "        print(\"Iteration %d :\\t\\tw0 = %.2f,\\tw1 = %.2f\" % (iteration, w[0], w[1]))\n",
    "\n",
    "    print(\"Learning end :\\tw0 = %.2f,\\tw1 = %.2f\" % (w[0], w[1]))\n",
    "    print(\"x = %f\" % -(w[0]/w[1]))\n",
    "    return w"
   ]
  },
  {
   "cell_type": "markdown",
   "metadata": {},
   "source": [
    "## run"
   ]
  },
  {
   "cell_type": "code",
   "execution_count": 8,
   "metadata": {
    "scrolled": true
   },
   "outputs": [
    {
     "name": "stdout",
     "output_type": "stream",
     "text": [
      "Learning start :\tw0 = -5.00,\tw1 = -8.00\n",
      "Iteration 1 :\t\tw0 = -1.40,\tw1 = 3.52\n",
      "Iteration 2 :\t\tw0 = 2.20,\tw1 = 4.24\n",
      "Iteration 3 :\t\tw0 = 2.20,\tw1 = 6.76\n",
      "Iteration 4 :\t\tw0 = 2.20,\tw1 = 6.76\n",
      "Learning end :\tw0 = 2.20,\tw1 = 6.76\n",
      "x = -0.325444\n"
     ]
    }
   ],
   "source": [
    "# 1.2, 2.0, 3.6\n",
    "learning_rate = 3.6\n",
    "\n",
    "x_list = np.asarray([(-1.5, 2), (-1.0, 2), (-0.5, 2), (-0.2, 1), (0.2, 1), (1.2, 1)])\n",
    "w = learning(x_list, learning_rate)"
   ]
  },
  {
   "cell_type": "markdown",
   "metadata": {},
   "source": [
    "## draw graph "
   ]
  },
  {
   "cell_type": "code",
   "execution_count": 9,
   "metadata": {},
   "outputs": [
    {
     "data": {
      "image/png": "[encoded data removed]",
      "text/plain": [
       "<Figure size 432x288 with 1 Axes>"
      ]
     },
     "metadata": {},
     "output_type": "display_data"
    }
   ],
   "source": [
    "plt.axhline(y = 0, c = 'gray')\n",
    "plt.scatter(x_list[x_list[:, 1] == 1, 0], np.zeros(x_list[x_list[:, 1] == 1, 0].size), c='red', marker=\"o\")\n",
    "plt.scatter(x_list[x_list[:, 1] == 2, 0], np.zeros(x_list[x_list[:, 1] == 2, 0].size), c='yellow', marker=\"o\")\n",
    "plt.axvline(x = -(w[0]/w[1]), c='green')\n",
    "plt.show()"
   ]
  },
  {
   "cell_type": "markdown",
   "metadata": {},
   "source": [
    "## run & draw"
   ]
  },
  {
   "cell_type": "code",
   "execution_count": 10,
   "metadata": {
    "scrolled": false
   },
   "outputs": [
    {
     "name": "stdout",
     "output_type": "stream",
     "text": [
      "Learning start :\tw0 = 5.00,\tw1 = 6.00\n",
      "Iteration 1 :\t\tw0 = 3.80,\tw1 = 6.60\n",
      "Iteration 2 :\t\tw0 = 2.60,\tw1 = 7.20\n",
      "Iteration 3 :\t\tw0 = 2.60,\tw1 = 7.20\n",
      "Learning end :\tw0 = 2.60,\tw1 = 7.20\n",
      "x = -0.361111\n"
     ]
    },
    {
     "data": {
      "image/png": "[encoded data removed]",
      "text/plain": [
       "<Figure size 432x288 with 1 Axes>"
      ]
     },
     "metadata": {},
     "output_type": "display_data"
    },
    {
     "name": "stdout",
     "output_type": "stream",
     "text": [
      "Learning start :\tw0 = -2.00,\tw1 = 3.00\n",
      "Iteration 1 :\t\tw0 = 2.00,\tw1 = 3.00\n",
      "Iteration 2 :\t\tw0 = 0.00,\tw1 = 4.00\n",
      "Iteration 3 :\t\tw0 = 0.00,\tw1 = 4.60\n",
      "Iteration 4 :\t\tw0 = 2.00,\tw1 = 4.20\n",
      "Iteration 5 :\t\tw0 = 2.00,\tw1 = 4.20\n",
      "Learning end :\tw0 = 2.00,\tw1 = 4.20\n",
      "x = -0.476190\n"
     ]
    },
    {
     "data": {
      "image/png": "[encoded data removed]",
      "text/plain": [
       "<Figure size 432x288 with 1 Axes>"
      ]
     },
     "metadata": {},
     "output_type": "display_data"
    },
    {
     "name": "stdout",
     "output_type": "stream",
     "text": [
      "Learning start :\tw0 = 9.00,\tw1 = 3.00\n",
      "Iteration 1 :\t\tw0 = 1.80,\tw1 = 8.40\n",
      "Iteration 2 :\t\tw0 = 1.80,\tw1 = 8.40\n",
      "Learning end :\tw0 = 1.80,\tw1 = 8.40\n",
      "x = -0.214286\n"
     ]
    },
    {
     "data": {
      "image/png": "[encoded data removed]",
      "text/plain": [
       "<Figure size 432x288 with 1 Axes>"
      ]
     },
     "metadata": {},
     "output_type": "display_data"
    }
   ],
   "source": [
    "learning_rates = [1.2, 2.0, 3.6]\n",
    "\n",
    "for learning_rate in learning_rates:\n",
    "    x_list = np.asarray([(-1.5, 2), (-1.0, 2), (-0.5, 2), (-0.2, 1), (0.2, 1), (1.2, 1)])\n",
    "    w = learning(x_list, learning_rate)\n",
    "    plt.axhline(y = 0, c = 'gray')\n",
    "    plt.scatter(x_list[x_list[:, 1] == 1, 0], np.zeros(x_list[x_list[:, 1] == 1, 0].size), c='red', marker=\"o\")\n",
    "    plt.scatter(x_list[x_list[:, 1] == 2, 0], np.zeros(x_list[x_list[:, 1] == 2, 0].size), c='yellow', marker=\"o\")\n",
    "    plt.axvline(x = -(w[0]/w[1]), c='green')\n",
    "    plt.show()"
   ]
  },
  {
   "cell_type": "markdown",
   "metadata": {},
   "source": [
    "## define learning process function"
   ]
  },
  {
   "cell_type": "code",
   "execution_count": 11,
   "metadata": {},
   "outputs": [],
   "source": [
    "def learning_process(x_list, larning_rate):\n",
    "    # wの初期化\n",
    "    w0 = random.randint(-10, 10)\n",
    "    w1 = random.randint(-10, 10)\n",
    "    w = np.asarray([w0, w1])\n",
    "    print(\"Learning start :\\tw0 = %.2f,\\tw1 = %.2f\" % (w[0], w[1]))\n",
    "    \n",
    "    w_list = [w]\n",
    "    \n",
    "    iteration = 0\n",
    "    number_of_errors = 1\n",
    "\n",
    "    while not number_of_errors == 0:\n",
    "        # x_listをシャッフルする\n",
    "        np.random.shuffle(x_list)\n",
    "        number_of_errors = 0\n",
    "\n",
    "        # xを一つずつ取り出す\n",
    "        for x, correct_class in x_list:\n",
    "            # xを拡張ベクトルにする\n",
    "            x = np.asarray([1, x])\n",
    "\n",
    "            # 内積をとる\n",
    "            score = np.dot(w, x)\n",
    "\n",
    "            # 分類が誤っていれば重みを修正する\n",
    "            if score <= 0 and correct_class == 1:\n",
    "                w = w + x * larning_rate\n",
    "                number_of_errors += 1\n",
    "            elif score >= 0 and correct_class == 2:\n",
    "                w = w - x * larning_rate\n",
    "                number_of_errors += 1\n",
    "\n",
    "        # iterationごとに結果を表示\n",
    "        iteration += 1\n",
    "        print(\"Iteration %d :\\t\\tw0 = %.2f,\\tw1 = %.2f\" % (iteration, w[0], w[1]))\n",
    "        w_list = np.append(w_list, w)\n",
    "        \n",
    "    print(\"Learning end :\\tw0 = %.2f,\\tw1 = %.2f\" % (w[0], w[1]))\n",
    "    print(\"x = %f\" % -(w[0]/w[1]))\n",
    "    return w_list"
   ]
  },
  {
   "cell_type": "code",
   "execution_count": 12,
   "metadata": {},
   "outputs": [],
   "source": [
    "x_list = np.asarray([(-1.5, 2), (-1.0, 2), (-0.5, 2), (-0.2, 1), (0.2, 1), (1.2, 1)])\n",
    "learning_rates = 1.2"
   ]
  },
  {
   "cell_type": "code",
   "execution_count": 13,
   "metadata": {
    "scrolled": false
   },
   "outputs": [
    {
     "name": "stdout",
     "output_type": "stream",
     "text": [
      "Learning start :\tw0 = 9.00,\tw1 = 1.00\n",
      "Iteration 1 :\t\tw0 = 1.80,\tw1 = 8.20\n",
      "Iteration 2 :\t\tw0 = 1.80,\tw1 = 8.20\n",
      "Learning end :\tw0 = 1.80,\tw1 = 8.20\n",
      "x = -0.219512\n"
     ]
    },
    {
     "data": {
      "text/plain": [
       "6"
      ]
     },
     "execution_count": 13,
     "metadata": {},
     "output_type": "execute_result"
    }
   ],
   "source": [
    "w_list = learning_process(x_list, learning_rate)\n",
    "len(w_list)"
   ]
  },
  {
   "cell_type": "code",
   "execution_count": 14,
   "metadata": {
    "scrolled": true
   },
   "outputs": [
    {
     "data": {
      "text/plain": [
       "array([[9. , 1. ],\n",
       "       [1.8, 8.2],\n",
       "       [1.8, 8.2]])"
      ]
     },
     "execution_count": 14,
     "metadata": {},
     "output_type": "execute_result"
    }
   ],
   "source": [
    "w_list = w_list .reshape((int(len(w_list) / 2)), 2)\n",
    "w_list"
   ]
  },
  {
   "cell_type": "code",
   "execution_count": 15,
   "metadata": {
    "scrolled": true
   },
   "outputs": [
    {
     "data": {
      "text/plain": [
       "array([9. , 1.8, 1.8])"
      ]
     },
     "execution_count": 15,
     "metadata": {},
     "output_type": "execute_result"
    }
   ],
   "source": [
    "w_list[:, 0]"
   ]
  },
  {
   "cell_type": "code",
   "execution_count": 16,
   "metadata": {},
   "outputs": [
    {
     "data": {
      "text/plain": [
       "array([1. , 8.2, 8.2])"
      ]
     },
     "execution_count": 16,
     "metadata": {},
     "output_type": "execute_result"
    }
   ],
   "source": [
    "w_list[:, 1]"
   ]
  },
  {
   "cell_type": "code",
   "execution_count": 20,
   "metadata": {
    "scrolled": false
   },
   "outputs": [
    {
     "name": "stdout",
     "output_type": "stream",
     "text": [
      "learning_rate : 1.200000\n",
      "Learning start :\tw0 = 5.00,\tw1 = -3.00\n",
      "Iteration 1 :\t\tw0 = 1.40,\tw1 = 0.60\n",
      "Iteration 2 :\t\tw0 = 1.40,\tw1 = 0.96\n",
      "Iteration 3 :\t\tw0 = 0.20,\tw1 = 1.56\n",
      "Iteration 4 :\t\tw0 = 0.20,\tw1 = 2.52\n",
      "Iteration 5 :\t\tw0 = 1.40,\tw1 = 2.28\n",
      "Iteration 6 :\t\tw0 = 1.40,\tw1 = 2.64\n",
      "Iteration 7 :\t\tw0 = 1.40,\tw1 = 3.00\n",
      "Iteration 8 :\t\tw0 = 1.40,\tw1 = 3.00\n",
      "Learning end :\tw0 = 1.40,\tw1 = 3.00\n",
      "x = -0.466667\n"
     ]
    },
    {
     "data": {
      "image/png": "[encoded data removed]",
      "text/plain": [
       "<Figure size 432x288 with 1 Axes>"
      ]
     },
     "metadata": {},
     "output_type": "display_data"
    },
    {
     "name": "stdout",
     "output_type": "stream",
     "text": [
      "learning_rate : 2.000000\n",
      "Learning start :\tw0 = 8.00,\tw1 = -4.00\n",
      "Iteration 1 :\t\tw0 = 2.00,\tw1 = 2.00\n",
      "Iteration 2 :\t\tw0 = 2.00,\tw1 = 2.60\n",
      "Iteration 3 :\t\tw0 = 0.00,\tw1 = 3.60\n",
      "Iteration 4 :\t\tw0 = 0.00,\tw1 = 4.20\n",
      "Iteration 5 :\t\tw0 = 0.00,\tw1 = 4.80\n",
      "Iteration 6 :\t\tw0 = 2.00,\tw1 = 4.40\n",
      "Iteration 7 :\t\tw0 = 2.00,\tw1 = 4.40\n",
      "Learning end :\tw0 = 2.00,\tw1 = 4.40\n",
      "x = -0.454545\n"
     ]
    },
    {
     "data": {
      "image/png": "[encoded data removed]",
      "text/plain": [
       "<Figure size 432x288 with 1 Axes>"
      ]
     },
     "metadata": {},
     "output_type": "display_data"
    },
    {
     "name": "stdout",
     "output_type": "stream",
     "text": [
      "learning_rate : 3.600000\n",
      "Learning start :\tw0 = 5.00,\tw1 = 4.00\n",
      "Iteration 1 :\t\tw0 = 1.40,\tw1 = 7.60\n",
      "Iteration 2 :\t\tw0 = 1.40,\tw1 = 8.68\n",
      "Iteration 3 :\t\tw0 = 5.00,\tw1 = 7.96\n",
      "Iteration 4 :\t\tw0 = 5.00,\tw1 = 9.04\n",
      "Iteration 5 :\t\tw0 = 1.40,\tw1 = 10.84\n",
      "Iteration 6 :\t\tw0 = 5.00,\tw1 = 10.12\n",
      "Iteration 7 :\t\tw0 = 5.00,\tw1 = 10.12\n",
      "Learning end :\tw0 = 5.00,\tw1 = 10.12\n",
      "x = -0.494071\n"
     ]
    },
    {
     "data": {
      "image/png": "[encoded data removed]",
      "text/plain": [
       "<Figure size 432x288 with 1 Axes>"
      ]
     },
     "metadata": {},
     "output_type": "display_data"
    }
   ],
   "source": [
    "learning_rates = [1.2, 2.0, 3.6]\n",
    "\n",
    "for learning_rate in learning_rates:\n",
    "    print(\"learning_rate : %f\" % learning_rate)\n",
    "    x_list = np.asarray([(-1.5, 2), (-1.0, 2), (-0.5, 2), (-0.2, 1), (0.2, 1), (1.2, 1)])\n",
    "    w_list = learning_process(x_list, learning_rate)\n",
    "    w_list = w_list .reshape((int(len(w_list) / 2)), 2)\n",
    "    plt.scatter(w_list[:, 0], w_list[:, 1], c='red', marker=\"o\")\n",
    "    plt.show()"
   ]
  },
  {
   "cell_type": "code",
   "execution_count": null,
   "metadata": {},
   "outputs": [],
   "source": []
  },
  {
   "cell_type": "code",
   "execution_count": null,
   "metadata": {},
   "outputs": [],
   "source": []
  }
 ],
 "metadata": {
  "kernelspec": {
   "display_name": "Python 3",
   "language": "python",
   "name": "python3"
  },
  "language_info": {
   "codemirror_mode": {
    "name": "ipython",
    "version": 3
   },
   "file_extension": ".py",
   "mimetype": "text/x-python",
   "name": "python",
   "nbconvert_exporter": "python",
   "pygments_lexer": "ipython3",
   "version": "3.7.1"
  }
 },
 "nbformat": 4,
 "nbformat_minor": 2
}
